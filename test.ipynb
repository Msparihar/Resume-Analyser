{
 "cells": [
  {
   "cell_type": "code",
   "execution_count": 3,
   "metadata": {},
   "outputs": [
    {
     "name": "stdout",
     "output_type": "stream",
     "text": [
      "['Govardhana K', 'Software Engineer', 'Bengaluru', 'Karnataka', 'Karnataka - Email', 'b2de315d95905b68', '5 Years 6', '4 Month', 'PL-SQL', 'Designations & Promotions', 'Karnataka -  ', 'January 2018', 'Karnataka -  ', 'November 2016 to December 2017', 'Karnataka -  ', 'January 2014 to October 2016', 'Associate Consultant  Oracle -  Bangalore', 'Karnataka -  ', 'November 2012 to December 2013', 'EDUCATION', 'B.E in Computer Science Engineering  Adithya Institute of Technology -  ', 'Tamil Nadu', 'September 2008 to June 2012', 'APEX', 'Less than 1 year', 'Data Structures', '3 years', '5 years', 'Oracle (', '5 years', 'Algorithms', '3 years', 'Core Java', 'Data Structures & Algorithms', 'Oracle PL-SQL', 'Sales Force', 'APEX', 'Jdeveloper', 'NetBeans', 'Eclipse', 'SQL', 'PL/SQL Developer', 'Putty Web Technologies', 'JavaScript', 'XML', 'HTML', 'Webservice', 'Linux', 'Windows Version', 'SVN & Git-Hub Databases', 'OC4J Product', 'Oracle FLEXCUBE Versions', '11.x', '12.x', '1749, 1755', '1696, 1702', '1417', '1423', '1356', '1793', '1209', '1215', '1136, 1247', '928', '932', 'Graduation Year', '858', '889', '821', '856', '787', '791', 'Graduation Year', '744', '750', '722', '742', '658', '664', '640', '656', '574', '580', '555', '572', '470', '493', '444', '468', '308', '314', '234', '240', '175', '198', '93', '136', 'Email Address', '39', '48', '13', '37', '0', '12', 'Oracle, Hyderabad  Hyderabad', 'Telangana', 'Manual', 'QA Analyst', 'Oracle  Test Analyst', 'Oracle, Hyderabad  Infosys Ltd -  Hyderabad', 'Telangana', 'November 2011 to February 2016', 'Hyderabad', 'Nov 2011 to Feb17 2016', 'Tata Consultancy Services', 'Hyderabad', 'Feb 24', '11 2017', 'Oracle, Hyderabad', 'QA Analyst', '6 years', 'Oracle', 'MCA', 'Osmania University  B.Sc.', 'Computer Science  Osmania University', 'Qtp', 'Familiar', 'Energy (Petroleum) & Health Care', 'Test Scenarios', 'Test', 'Functional', 'GUI', 'Smoke', 'Integration Testing', 'Requirements', 'SDLC', 'STLC', 'Microsoft Test', 'Oracle Test', 'Test Management Tools', 'Creating Object Repositories and Function Libraries', 'VB Script', 'Windows Application & Web Application  Technical Skills', 'Test Automation Tools: Blue Prism', '10.0', 'Testcomplete \\\\u2751 Test Management Tool', 'Microsoft Test', 'Oracle Test', '10', 'SQL Server', 'Operating Systems', 'Windows 7  Project 1: Title: Cadence Client', 'Baker Hughes  Technologies', 'Microsoft Visual Studio', 'Microsoft Team Foundation Server', 'Client Background', 'Project Description', 'Client', 'Project 2:  ', 'Paragon', 'one', 'clinicians', 'first', 'Paragon', 'clinicians', 'Paragon', 'Performed Smoke', 'Regression', '\\\\u2022 Involved', '\\\\u2022 Usability', '\\\\u2022 Involved', 'TFS \\\\u2022 Participated', 'Internal Quality Assurance', '\\\\u2022 Participated', 'AT&T', '\\\\u2022 Involved', '\\\\u2022 Certifying', 'Performed Functional', 'Regression', '\\\\u2022 Involved', '\\\\u2022 Involved', '\\\\u2022 Accessibility', '\\\\u2022 Involved', 'JIRA \\\\u2022 WebServices', 'API']\n"
     ]
    }
   ],
   "source": [
    "import spacy\n",
    "\n",
    "# load the English NLP model\n",
    "nlp = spacy.load(\"en_core_web_sm\")\n",
    "\n",
    "# read the resume text from a file\n",
    "with open(\"resume2.txt\", \"r\",encoding=\"utf-8\") as f:\n",
    "    resume_text = f.read()\n",
    "\n",
    "# use the NER model to extract skills from the resume text\n",
    "doc = nlp(resume_text)\n",
    "skills = []\n",
    "for ent in doc.ents:\n",
    "    skills.append(ent.text)\n",
    "\n",
    "# print the list of skills\n",
    "print(skills)"
   ]
  },
  {
   "cell_type": "code",
   "execution_count": 4,
   "metadata": {},
   "outputs": [],
   "source": [
    "required_skills = [\n",
    "    \"Java\",\n",
    "    \"C++\",\n",
    "    \"Python\",\n",
    "    \"C#\",\n",
    "    \"PHP\",\n",
    "    \"JavaScript\",\n",
    "    \"HTML\",\n",
    "    \"CSS\",\n",
    "    \"SQL\",\n",
    "    \"Agile\",\n",
    "    \"Scrum\",\n",
    "    \"Git\",\n",
    "    \"Linux\",\n",
    "    \"Docker\",\n",
    "    \"Kubernetes\",\n",
    "    \"CI/CD\",\n",
    "]"
   ]
  },
  {
   "cell_type": "code",
   "execution_count": 5,
   "metadata": {},
   "outputs": [],
   "source": [
    "skills = [skill for skill in skills if skill in required_skills]"
   ]
  },
  {
   "cell_type": "code",
   "execution_count": 7,
   "metadata": {},
   "outputs": [
    {
     "name": "stdout",
     "output_type": "stream",
     "text": [
      "The cosine similarity between the two variables is: 51.64%\n"
     ]
    }
   ],
   "source": [
    "from sklearn.feature_extraction.text import CountVectorizer\n",
    "from sklearn.metrics.pairwise import cosine_similarity\n",
    "\n",
    "# Create a CountVectorizer object\n",
    "vectorizer = CountVectorizer()\n",
    "\n",
    "# Fit the vectorizer on the two sets of skills\n",
    "vectorizer.fit_transform(skills + required_skills)\n",
    "\n",
    "# Convert each set of skills to a vector of word counts\n",
    "technical_skills_vector = vectorizer.transform([', '.join(skills)])\n",
    "skills_vector = vectorizer.transform([', '.join(required_skills)])\n",
    "\n",
    "# Calculate the cosine similarity between the two vectors\n",
    "cosine_sim = cosine_similarity(technical_skills_vector, skills_vector)[0][0]\n",
    "\n",
    "# Convert the cosine similarity to a percentage\n",
    "similarity_percent = cosine_sim * 100\n",
    "\n",
    "print(\"The cosine similarity between the two variables is: {:.2f}%\".format(similarity_percent))\n"
   ]
  }
 ],
 "metadata": {
  "kernelspec": {
   "display_name": "venv",
   "language": "python",
   "name": "python3"
  },
  "language_info": {
   "codemirror_mode": {
    "name": "ipython",
    "version": 3
   },
   "file_extension": ".py",
   "mimetype": "text/x-python",
   "name": "python",
   "nbconvert_exporter": "python",
   "pygments_lexer": "ipython3",
   "version": "3.9.13"
  },
  "orig_nbformat": 4,
  "vscode": {
   "interpreter": {
    "hash": "6a9100d15347cee4db40e802c1e505938e6b867b373c1758aecb013e2409a160"
   }
  }
 },
 "nbformat": 4,
 "nbformat_minor": 2
}
